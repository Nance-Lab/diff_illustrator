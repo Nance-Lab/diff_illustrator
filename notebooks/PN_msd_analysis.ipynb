{
 "cells": [
  {
   "cell_type": "markdown",
   "id": "b5c8d000",
   "metadata": {},
   "source": [
    "## Welcome!\n",
    "Please start by running the first cell to import all the libraries for this script. Proceed to run all functions until the next markdown cell!"
   ]
  },
  {
   "cell_type": "code",
   "execution_count": 1,
   "id": "a8310e05",
   "metadata": {},
   "outputs": [],
   "source": [
    "import os\n",
    "import numpy as np\n",
    "import pandas as pd\n",
    "\n",
    "import matplotlib\n",
    "import matplotlib.pyplot as plt\n",
    "from matplotlib.colors import ListedColormap, LinearSegmentedColormap\n",
    "\n",
    "from os import listdir, getcwd, chdir\n",
    "from os.path import isfile, join\n",
    "from sklearn import linear_model"
   ]
  },
  {
   "cell_type": "code",
   "execution_count": 2,
   "id": "1afce694",
   "metadata": {},
   "outputs": [],
   "source": [
    "def get_experiment(date,donor,DIV,stimulus,level):\n",
    "    '''Generates a string for the Traj csv folder you're working in.\n",
    "    This follows the naming convention I use, but you can omit this function and\n",
    "    code in the name of the Traj csv folder (second to last cell).\n",
    "    '''\n",
    "    experiment=date+'_'+donor+'_'+DIV+'_'+stimulus+'_'+level #Title of the Traj_csv folder without '_Traj_csv'\n",
    "    \n",
    "    return experiment"
   ]
  },
  {
   "cell_type": "code",
   "execution_count": 3,
   "id": "f09b4999",
   "metadata": {},
   "outputs": [],
   "source": [
    "def get_path(model,experiment):\n",
    "    '''Returns the datapath in your directory corresponding to the Traj csv folder.\n",
    "    '''\n",
    "    data_path=f'/Users/phuongnguyen/Desktop/diff_classifier_PN/notebooks/development/QD-BEV MPT/{model} MPT/{experiment}_Traj_csv/'\n",
    "\n",
    "    return data_path"
   ]
  },
  {
   "cell_type": "code",
   "execution_count": 4,
   "id": "6f4549f9",
   "metadata": {},
   "outputs": [],
   "source": [
    "def get_csvs(data_path,filetype):\n",
    "    '''Returns the master list of csv files in the Traj csv folder, geoMean or geoSEM files depending on user input.\n",
    "    '''\n",
    "    geo_list=[j for j in listdir(data_path) if isfile(join(data_path, j)) and filetype in j]\n",
    "    \n",
    "    return geo_list"
   ]
  },
  {
   "cell_type": "code",
   "execution_count": 5,
   "id": "2812a265",
   "metadata": {},
   "outputs": [],
   "source": [
    "def get_geo_dict(geo_list,doses):\n",
    "    '''Converts the list of csv files into a dictionary split by dose (50nM ROT, 0.5h OGD, etc.)\n",
    "    '''\n",
    "    geo_dict={}\n",
    "    \n",
    "    for dose in doses:\n",
    "        geo_dict[dose]=[]\n",
    "        \n",
    "    for dose in doses:\n",
    "        geo_dose=[file for file in geo_list if dose in file]\n",
    "        geo_dict[dose].append(geo_dose)\n",
    "    \n",
    "    return geo_dict"
   ]
  },
  {
   "cell_type": "code",
   "execution_count": 13,
   "id": "30de81bc",
   "metadata": {},
   "outputs": [],
   "source": [
    "def get_geo_df(filetype,doses,timepoints,experiment): #BB took out model in function call\n",
    "    '''Constructs a dataframe of MSD values for every combination of dose/time.\n",
    "    If there are multiple csv files for a single dose/time, the arithmatic mean is computed.\n",
    "    The user has the option to generate dataframes for the MSD values (geoMean) or the standard\n",
    "    error of the mean (geoSEM) from MPT segmenting. \n",
    "    '''\n",
    "    df_list=[]   \n",
    "    data_path='/Users/phuongnguyen/Desktop/diff_classifier_PN/notebooks/development/QD-BEV MPT/Compiled_Data_Healthy_OGD/'\n",
    "\n",
    "        \n",
    "    if filetype=='geomean':\n",
    "        geo_list=get_csvs(data_path,filetype)\n",
    "        geo_dict=get_geo_dict(geo_list,doses)\n",
    "    \n",
    "        for dose in doses: \n",
    "            for time in timepoints:\n",
    "                csv_list=[file for file in geo_dict[dose][0] if dose in file and time in file]\n",
    "                temp_csv_df=[]\n",
    "\n",
    "                 \n",
    "                for csv in csv_list:\n",
    "                    if sum(dose and time in csv for csv in csv_list)==1: \n",
    "                        temp_csv_df.append(pd.read_csv(data_path+csv))\n",
    "                        csv_df=pd.concat(temp_csv_df,axis=1)\n",
    "                        csv_df[dose+\"_\"+time]=np.exp(csv_df.mean(axis=1))\n",
    "                        geo_df=csv_df.drop(columns=csv_df.columns[:1],axis=1)\n",
    "                        df_list.append(geo_df)\n",
    "                \n",
    "                    if sum(dose and time in csv for csv in csv_list)>1:\n",
    "                        ndrop=sum(dose and time in csv for csv in csv_list)\n",
    "                        temp_csv_df.append(pd.read_csv(data_path+csv))\n",
    "                        csv_df=pd.concat(temp_csv_df,axis=1)\n",
    "                        csv_df[dose+\"_\"+time]=np.exp(csv_df.mean(axis=1))\n",
    "                        geo_df=csv_df.drop(columns=csv_df.columns[:ndrop],axis=1)\n",
    "                        df_list.append(geo_df)\n",
    "            print(df_list)\n",
    "            geo_df=pd.concat(df_list,axis=1)\n",
    "        \n",
    "    if filetype =='geoSEM':\n",
    "        geo_list=get_csvs(data_path,filetype)\n",
    "        geo_dict=get_geo_dict(geo_list,doses)\n",
    "        \n",
    "        for dose in doses: \n",
    "            for time in timepoints:\n",
    "                csv_list=[file for file in geo_dict[dose][0] if dose in file and time in file]\n",
    "                temp_csv_df=[]\n",
    "                \n",
    "                for csv in csv_list:\n",
    "                    if sum(dose and time in csv for csv in csv_list)==1:\n",
    "                        temp_csv_df.append(pd.read_csv(data_path+csv))\n",
    "                        csv_df=pd.concat(temp_csv_df,axis=1)\n",
    "                        csv_df[dose+\"_\"+time]=csv_df.mean(axis=1)\n",
    "                        geo_df=csv_df.drop(columns=csv_df.columns[:1],axis=1)\n",
    "                        df_list.append(geo_df)\n",
    "                    \n",
    "                    if sum(dose and time in csv for csv in csv_list)>1:\n",
    "                        ndrop=sum(dose and time in csv for csv in csv_list)\n",
    "                        temp_csv_df.append(pd.read_csv(data_path+csv))\n",
    "                        csv_df=pd.concat(temp_csv_df,axis=1)\n",
    "                        csv_df[dose+\"_\"+time]=csv_df.mean(axis=1)\n",
    "                        geo_df=csv_df.drop(columns=csv_df.columns[:ndrop],axis=1)\n",
    "                        df_list.append(geo_df)\n",
    "    \n",
    "            geo_df=pd.concat(df_list,axis=1)\n",
    "            geo_df.drop\n",
    "        \n",
    "    return geo_df"
   ]
  },
  {
   "cell_type": "code",
   "execution_count": 14,
   "id": "fcbf21df",
   "metadata": {},
   "outputs": [],
   "source": [
    "def get_df_dose_list(doses,geo_df):\n",
    "    df_dose_list = []\n",
    "    \n",
    "    for dose in doses:\n",
    "        dose_df = pd.DataFrame()\n",
    "        dose_cols = [col for col in geo_df.columns if dose in col]\n",
    "        dose_df = geo_df.filter(dose_cols, axis=1)\n",
    "        df_dose_list.append(dose_df)\n",
    "        \n",
    "    return df_dose_list"
   ]
  },
  {
   "cell_type": "code",
   "execution_count": 18,
   "id": "c895e9e4",
   "metadata": {},
   "outputs": [],
   "source": [
    "def msd_viz(doses,geomean_df,df_dose_list):\n",
    "    count = 0\n",
    "    \n",
    "    if len(doses) == 1:\n",
    "        tau = geomean_df.index.values / 651\n",
    "        fig, ax = plt.subplots(figsize=(5,5))\n",
    "        plt.rcParams.update({'font.family':'helvetica'})\n",
    "        handles = list(geomean_df.columns)\n",
    "        #labels = [handle.split(stimulus+'_')[1] for handle in handles] # this wont work\n",
    "    \n",
    "        for handle in handles:\n",
    "            ax.loglog(tau [0:70],geomean_df[handle][0:70]) #Can take out the 0:70 part to get the whole graph\n",
    "            ax.set_xlabel('Lag time (s)',fontsize=16)\n",
    "            ax.set_ylabel('Mean-squared displacement (μ$m^2$)',fontsize=16)\n",
    "            #ax.legend(labels,loc='upper left') #this wont either\n",
    "            ax.set_xlim([0.002, 0.05])\n",
    "            ax.set_ylim([0.0009,1.3])\n",
    "            #axes[c].set_title(f'\\n{doses[c]}\\n', fontsize=16)\n",
    "        ax.legend(handles)\n",
    "\n",
    "         \n",
    "    else:                \n",
    "        tau = geomean_df.index.values/651\n",
    "        fig, axes = plt.subplots(nrows=1, ncols=len(doses),figsize=(12,6))\n",
    "        plt.rcParams.update({'font.family':'helvetica'})\n",
    "        count=0\n",
    "        \n",
    "        for c in np.arange(0,len(doses)):\n",
    "            handles = list(df_dose_list[c].columns)\n",
    "            times = []\n",
    "            handles = list(df_dose_list[c].columns)\n",
    "            #labels = [handle.split(stimulus+'_')[1] for handle in handles]\n",
    "            axes[c].loglog(tau[0:70],df_dose_list[count][0:70])\n",
    "            axes[c].set_xlabel('\\nLag time (s)',fontsize=16)\n",
    "            #axes[c].legend(labels,loc='best')\n",
    "            axes[c].set_xlim([0.002, 0.02])\n",
    "            axes[c].set_ylim([0.0009,10])\n",
    "            axes[c].set_title(f'\\n{doses[c]}\\n', fontsize=16)\n",
    "    \n",
    "            if c == 0:\n",
    "                axes[c].set_ylabel('Mean-squared displacement (μ$m^2$)',fontsize=16)\n",
    "    \n",
    "            count+=1\n",
    "    return"
   ]
  },
  {
   "cell_type": "markdown",
   "id": "d980064f",
   "metadata": {},
   "source": [
    "## Input experiment/directory info and make MSD plots!"
   ]
  },
  {
   "cell_type": "markdown",
   "id": "72d0e473",
   "metadata": {},
   "source": [
    "Input the components of your trajectory csv folder. Using my folder \"102722_P10F_4DIV_HYase_35umL_Traj_csv\" as an example. If your naming convention follows a different format, simply comment out line 6 and hard-code the name of your trajectory csv folder.\n",
    "\n",
    "Doses were written for ROT data but can correspond to any set of stimuli, however this is named in your traj csv files.\n",
    "\n",
    "In this current version I don't have the error shading functionality built in yet, but working on that!"
   ]
  },
  {
   "cell_type": "code",
   "execution_count": 19,
   "id": "3881322a",
   "metadata": {},
   "outputs": [
    {
     "name": "stdout",
     "output_type": "stream",
     "text": [
      "{'OGD': [['geomean_100X_OGD_Cortex_Slice2_Video1.csv', 'geomean_100X_OGD_Cortex_Slice2_Video3.csv', 'geomean_100X_OGD_Cortex_Slice2_Video2.csv', 'geomean_040623_P10M_4DIV_100X_OGD_Striatum_Slice2_Video3.csv', 'geomean_100X_OGD_Striatum_Slice2_Video1.csv', 'geomean_100X_OGD_Striatum_Slice3_Video1.csv', 'geomean_100X_OGD_Striatum_Slice3_Video2.csv', 'geomean_100X_OGD_Striatum_Slice3_Video3.csv', 'geomean_100X_OGD_Striatum_Slice1_Video1.csv', 'geomean_60X_OGD_Cortex_Slice1_Video2.csv', 'geomean_100X_OGD_Striatum_Slice1_Video3.csv', 'geomean_100X_OGD_Striatum_Slice1_Video2.csv', 'geomean_60X_OGD_Cortex_Slice1_Video1.csv', 'geomean_100X_OGD_Striatum_Slice1_Video5.csv']]}\n",
      "[Empty DataFrame\n",
      "Columns: []\n",
      "Index: [0, 1, 2, 3, 4, 5, 6, 7, 8, 9, 10, 11, 12, 13, 14, 15, 16, 17, 18, 19, 20, 21, 22, 23, 24, 25, 26, 27, 28, 29, 30, 31, 32, 33, 34, 35, 36, 37, 38, 39, 40, 41, 42, 43, 44, 45, 46, 47, 48, 49, 50, 51, 52, 53, 54, 55, 56, 57, 58, 59, 60, 61, 62, 63, 64, 65, 66, 67, 68, 69, 70, 71, 72, 73, 74, 75, 76, 77, 78, 79, 80, 81, 82, 83, 84, 85, 86, 87, 88, 89, 90, 91, 92, 93, 94, 95, 96, 97, 98, 99, ...]\n",
      "\n",
      "[650 rows x 0 columns], Empty DataFrame\n",
      "Columns: []\n",
      "Index: [0, 1, 2, 3, 4, 5, 6, 7, 8, 9, 10, 11, 12, 13, 14, 15, 16, 17, 18, 19, 20, 21, 22, 23, 24, 25, 26, 27, 28, 29, 30, 31, 32, 33, 34, 35, 36, 37, 38, 39, 40, 41, 42, 43, 44, 45, 46, 47, 48, 49, 50, 51, 52, 53, 54, 55, 56, 57, 58, 59, 60, 61, 62, 63, 64, 65, 66, 67, 68, 69, 70, 71, 72, 73, 74, 75, 76, 77, 78, 79, 80, 81, 82, 83, 84, 85, 86, 87, 88, 89, 90, 91, 92, 93, 94, 95, 96, 97, 98, 99, ...]\n",
      "\n",
      "[650 rows x 0 columns], Empty DataFrame\n",
      "Columns: []\n",
      "Index: [0, 1, 2, 3, 4, 5, 6, 7, 8, 9, 10, 11, 12, 13, 14, 15, 16, 17, 18, 19, 20, 21, 22, 23, 24, 25, 26, 27, 28, 29, 30, 31, 32, 33, 34, 35, 36, 37, 38, 39, 40, 41, 42, 43, 44, 45, 46, 47, 48, 49, 50, 51, 52, 53, 54, 55, 56, 57, 58, 59, 60, 61, 62, 63, 64, 65, 66, 67, 68, 69, 70, 71, 72, 73, 74, 75, 76, 77, 78, 79, 80, 81, 82, 83, 84, 85, 86, 87, 88, 89, 90, 91, 92, 93, 94, 95, 96, 97, 98, 99, ...]\n",
      "\n",
      "[650 rows x 0 columns], Empty DataFrame\n",
      "Columns: []\n",
      "Index: [0, 1, 2, 3, 4, 5, 6, 7, 8, 9, 10, 11, 12, 13, 14, 15, 16, 17, 18, 19, 20, 21, 22, 23, 24, 25, 26, 27, 28, 29, 30, 31, 32, 33, 34, 35, 36, 37, 38, 39, 40, 41, 42, 43, 44, 45, 46, 47, 48, 49, 50, 51, 52, 53, 54, 55, 56, 57, 58, 59, 60, 61, 62, 63, 64, 65, 66, 67, 68, 69, 70, 71, 72, 73, 74, 75, 76, 77, 78, 79, 80, 81, 82, 83, 84, 85, 86, 87, 88, 89, 90, 91, 92, 93, 94, 95, 96, 97, 98, 99, ...]\n",
      "\n",
      "[650 rows x 0 columns],      OGD_Cortex\n",
      "0      0.048803\n",
      "1      0.090864\n",
      "2      0.133270\n",
      "3      0.171292\n",
      "4      0.206808\n",
      "..          ...\n",
      "645    0.000821\n",
      "646         NaN\n",
      "647         NaN\n",
      "648         NaN\n",
      "649         NaN\n",
      "\n",
      "[650 rows x 1 columns], Empty DataFrame\n",
      "Columns: []\n",
      "Index: [0, 1, 2, 3, 4, 5, 6, 7, 8, 9, 10, 11, 12, 13, 14, 15, 16, 17, 18, 19, 20, 21, 22, 23, 24, 25, 26, 27, 28, 29, 30, 31, 32, 33, 34, 35, 36, 37, 38, 39, 40, 41, 42, 43, 44, 45, 46, 47, 48, 49, 50, 51, 52, 53, 54, 55, 56, 57, 58, 59, 60, 61, 62, 63, 64, 65, 66, 67, 68, 69, 70, 71, 72, 73, 74, 75, 76, 77, 78, 79, 80, 81, 82, 83, 84, 85, 86, 87, 88, 89, 90, 91, 92, 93, 94, 95, 96, 97, 98, 99, ...]\n",
      "\n",
      "[650 rows x 0 columns], Empty DataFrame\n",
      "Columns: []\n",
      "Index: [0, 1, 2, 3, 4, 5, 6, 7, 8, 9, 10, 11, 12, 13, 14, 15, 16, 17, 18, 19, 20, 21, 22, 23, 24, 25, 26, 27, 28, 29, 30, 31, 32, 33, 34, 35, 36, 37, 38, 39, 40, 41, 42, 43, 44, 45, 46, 47, 48, 49, 50, 51, 52, 53, 54, 55, 56, 57, 58, 59, 60, 61, 62, 63, 64, 65, 66, 67, 68, 69, 70, 71, 72, 73, 74, 75, 76, 77, 78, 79, 80, 81, 82, 83, 84, 85, 86, 87, 88, 89, 90, 91, 92, 93, 94, 95, 96, 97, 98, 99, ...]\n",
      "\n",
      "[650 rows x 0 columns], Empty DataFrame\n",
      "Columns: []\n",
      "Index: [0, 1, 2, 3, 4, 5, 6, 7, 8, 9, 10, 11, 12, 13, 14, 15, 16, 17, 18, 19, 20, 21, 22, 23, 24, 25, 26, 27, 28, 29, 30, 31, 32, 33, 34, 35, 36, 37, 38, 39, 40, 41, 42, 43, 44, 45, 46, 47, 48, 49, 50, 51, 52, 53, 54, 55, 56, 57, 58, 59, 60, 61, 62, 63, 64, 65, 66, 67, 68, 69, 70, 71, 72, 73, 74, 75, 76, 77, 78, 79, 80, 81, 82, 83, 84, 85, 86, 87, 88, 89, 90, 91, 92, 93, 94, 95, 96, 97, 98, 99, ...]\n",
      "\n",
      "[650 rows x 0 columns], Empty DataFrame\n",
      "Columns: []\n",
      "Index: [0, 1, 2, 3, 4, 5, 6, 7, 8, 9, 10, 11, 12, 13, 14, 15, 16, 17, 18, 19, 20, 21, 22, 23, 24, 25, 26, 27, 28, 29, 30, 31, 32, 33, 34, 35, 36, 37, 38, 39, 40, 41, 42, 43, 44, 45, 46, 47, 48, 49, 50, 51, 52, 53, 54, 55, 56, 57, 58, 59, 60, 61, 62, 63, 64, 65, 66, 67, 68, 69, 70, 71, 72, 73, 74, 75, 76, 77, 78, 79, 80, 81, 82, 83, 84, 85, 86, 87, 88, 89, 90, 91, 92, 93, 94, 95, 96, 97, 98, 99, ...]\n",
      "\n",
      "[650 rows x 0 columns], Empty DataFrame\n",
      "Columns: []\n",
      "Index: [0, 1, 2, 3, 4, 5, 6, 7, 8, 9, 10, 11, 12, 13, 14, 15, 16, 17, 18, 19, 20, 21, 22, 23, 24, 25, 26, 27, 28, 29, 30, 31, 32, 33, 34, 35, 36, 37, 38, 39, 40, 41, 42, 43, 44, 45, 46, 47, 48, 49, 50, 51, 52, 53, 54, 55, 56, 57, 58, 59, 60, 61, 62, 63, 64, 65, 66, 67, 68, 69, 70, 71, 72, 73, 74, 75, 76, 77, 78, 79, 80, 81, 82, 83, 84, 85, 86, 87, 88, 89, 90, 91, 92, 93, 94, 95, 96, 97, 98, 99, ...]\n",
      "\n",
      "[650 rows x 0 columns], Empty DataFrame\n",
      "Columns: []\n",
      "Index: [0, 1, 2, 3, 4, 5, 6, 7, 8, 9, 10, 11, 12, 13, 14, 15, 16, 17, 18, 19, 20, 21, 22, 23, 24, 25, 26, 27, 28, 29, 30, 31, 32, 33, 34, 35, 36, 37, 38, 39, 40, 41, 42, 43, 44, 45, 46, 47, 48, 49, 50, 51, 52, 53, 54, 55, 56, 57, 58, 59, 60, 61, 62, 63, 64, 65, 66, 67, 68, 69, 70, 71, 72, 73, 74, 75, 76, 77, 78, 79, 80, 81, 82, 83, 84, 85, 86, 87, 88, 89, 90, 91, 92, 93, 94, 95, 96, 97, 98, 99, ...]\n",
      "\n",
      "[650 rows x 0 columns], Empty DataFrame\n",
      "Columns: []\n",
      "Index: [0, 1, 2, 3, 4, 5, 6, 7, 8, 9, 10, 11, 12, 13, 14, 15, 16, 17, 18, 19, 20, 21, 22, 23, 24, 25, 26, 27, 28, 29, 30, 31, 32, 33, 34, 35, 36, 37, 38, 39, 40, 41, 42, 43, 44, 45, 46, 47, 48, 49, 50, 51, 52, 53, 54, 55, 56, 57, 58, 59, 60, 61, 62, 63, 64, 65, 66, 67, 68, 69, 70, 71, 72, 73, 74, 75, 76, 77, 78, 79, 80, 81, 82, 83, 84, 85, 86, 87, 88, 89, 90, 91, 92, 93, 94, 95, 96, 97, 98, 99, ...]\n",
      "\n",
      "[650 rows x 0 columns], Empty DataFrame\n",
      "Columns: []\n",
      "Index: [0, 1, 2, 3, 4, 5, 6, 7, 8, 9, 10, 11, 12, 13, 14, 15, 16, 17, 18, 19, 20, 21, 22, 23, 24, 25, 26, 27, 28, 29, 30, 31, 32, 33, 34, 35, 36, 37, 38, 39, 40, 41, 42, 43, 44, 45, 46, 47, 48, 49, 50, 51, 52, 53, 54, 55, 56, 57, 58, 59, 60, 61, 62, 63, 64, 65, 66, 67, 68, 69, 70, 71, 72, 73, 74, 75, 76, 77, 78, 79, 80, 81, 82, 83, 84, 85, 86, 87, 88, 89, 90, 91, 92, 93, 94, 95, 96, 97, 98, 99, ...]\n",
      "\n",
      "[650 rows x 0 columns],      OGD_Striatum\n",
      "0        0.069434\n",
      "1        0.128292\n",
      "2        0.182183\n",
      "3        0.232510\n",
      "4        0.278139\n",
      "..            ...\n",
      "645      0.009023\n",
      "646      0.075266\n",
      "647      0.073280\n",
      "648      0.079541\n",
      "649      0.095417\n",
      "\n",
      "[650 rows x 1 columns]]\n",
      "     OGD_Cortex  OGD_Striatum\n",
      "0      0.048803      0.069434\n",
      "1      0.090864      0.128292\n",
      "2      0.133270      0.182183\n",
      "3      0.171292      0.232510\n",
      "4      0.206808      0.278139\n",
      "..          ...           ...\n",
      "645    0.000821      0.009023\n",
      "646         NaN      0.075266\n",
      "647         NaN      0.073280\n",
      "648         NaN      0.079541\n",
      "649         NaN      0.095417\n",
      "\n",
      "[650 rows x 2 columns]\n"
     ]
    }
   ],
   "source": [
    "#geomean_040623_P10M_4DIV_100X_OGD_Striatum_Slice2_Video3.csv\n",
    "\n",
    "date='040623'\n",
    "donor='P10F'\n",
    "DIV='4DIV'\n",
    "stimulus='100X_OGD'\n",
    "level='Striatum'\n",
    "experiment = get_experiment(date,donor,DIV,stimulus,level)\n",
    "#experiment = 'your_traj_folder'\n",
    "\n",
    "doses = ['OGD']\n",
    "timepoints = ['Cortex','Striatum']\n",
    "#doses=['HYase_35UmL','HYase_NT'] #Unique experimental condition\n",
    "#timepoints=['_0m','10m','20m','30m','40m','50m','60m'] #Time points taken in study\n",
    "\n",
    "#data_path=get_path(model,experiment) #Data path of traj csv folder\n",
    "data_path='/Users/phuongnguyen/Desktop/diff_classifier_PN/notebooks/development/QD-BEV MPT/Compiled_Data_Healthy_OGD/'\n",
    "\n",
    "geo_list=get_csvs(data_path,'geomean') #list of csvs in folder containing raw MSD values\n",
    "geo_dict=get_geo_dict(geo_list,doses) #dictionary (by experimental condition) of csvs in folder\n",
    "print(geo_dict)\n",
    "\n",
    "geomean_df=get_geo_df('geomean',doses,timepoints,experiment) #Dataframe of all MSD values by condition/timepoint\n",
    "#hardcoded directory in geomean_df and geo_list\n",
    "print(geomean_df)\n",
    "df_dose_list=get_df_dose_list(doses,geomean_df) #list of the column headers in the geoMean_df for plot labeling"
   ]
  },
  {
   "cell_type": "markdown",
   "id": "f07bb2a6",
   "metadata": {},
   "source": [
    "## Plot!"
   ]
  },
  {
   "cell_type": "code",
   "execution_count": 20,
   "id": "be43d7e7",
   "metadata": {},
   "outputs": [
    {
     "data": {
      "image/png": "[encoded data removed]",
      "text/plain": [
       "<Figure size 500x500 with 1 Axes>"
      ]
     },
     "metadata": {},
     "output_type": "display_data"
    }
   ],
   "source": [
    "msd_viz(doses,geomean_df,df_dose_list)"
   ]
  },
  {
   "cell_type": "code",
   "execution_count": 79,
   "id": "00256f6b",
   "metadata": {},
   "outputs": [
    {
     "data": {
      "text/plain": [
       "Index(['OGD_Cortex', 'OGD_Striatum'], dtype='object')"
      ]
     },
     "execution_count": 79,
     "metadata": {},
     "output_type": "execute_result"
    }
   ],
   "source": [
    "geomean_df.columns"
   ]
  },
  {
   "cell_type": "code",
   "execution_count": 73,
   "id": "3492ea38",
   "metadata": {},
   "outputs": [],
   "source": [
    "geo_dict=get_geo_dict(geo_list,doses) #dictionary (by experimental condition) of csvs in folder"
   ]
  },
  {
   "cell_type": "code",
   "execution_count": 74,
   "id": "c20b87ae",
   "metadata": {},
   "outputs": [
    {
     "data": {
      "text/plain": [
       "{'Healthy': [['geomean_60X_Healthy_Cortex_Video1.csv',\n",
       "   'geomean_100X_Healthy_Cortex_Slice2_Video4.csv',\n",
       "   'geomean_100X_Healthy_Striatum_Slice1_Video4.csv',\n",
       "   'geomean_100X_Healthy_Striatum_Slice1_Video1.csv',\n",
       "   'geomean_100X_Healthy_Striatum_Slice1_Video3.csv',\n",
       "   'geomean_100X_Healthy_Striatum_Slice1_Video2.csv',\n",
       "   'geomean_100X_Healthy_Striatum_Slice2_Video1.csv',\n",
       "   'geomean_100X_Healthy_Cortex_Slice1_Video1.csv',\n",
       "   'geomean_100X_Healthy_Striatum_Slice2_Video2.csv',\n",
       "   'geomean_100X_Healthy_Striatum_Slice2_Video3.csv',\n",
       "   'geomean_60X_Healthy_Striatum_Slice2_Video1.csv']],\n",
       " 'OGD': [['geomean_100X_OGD_Cortex_Slice2_Video1.csv',\n",
       "   'geomean_100X_OGD_Cortex_Slice2_Video3.csv',\n",
       "   'geomean_100X_OGD_Cortex_Slice2_Video2.csv',\n",
       "   'geomean_040623_P10M_4DIV_100X_OGD_Striatum_Slice2_Video3.csv',\n",
       "   'geomean_100X_OGD_Striatum_Slice2_Video1.csv',\n",
       "   'geomean_100X_OGD_Striatum_Slice3_Video1.csv',\n",
       "   'geomean_100X_OGD_Striatum_Slice3_Video2.csv',\n",
       "   'geomean_100X_OGD_Striatum_Slice3_Video3.csv',\n",
       "   'geomean_100X_OGD_Striatum_Slice1_Video1.csv',\n",
       "   'geomean_60X_OGD_Cortex_Slice1_Video2.csv',\n",
       "   'geomean_100X_OGD_Striatum_Slice1_Video3.csv',\n",
       "   'geomean_100X_OGD_Striatum_Slice1_Video2.csv',\n",
       "   'geomean_60X_OGD_Cortex_Slice1_Video1.csv',\n",
       "   'geomean_100X_OGD_Striatum_Slice1_Video5.csv']]}"
      ]
     },
     "execution_count": 74,
     "metadata": {},
     "output_type": "execute_result"
    }
   ],
   "source": [
    "geo_dict"
   ]
  },
  {
   "cell_type": "code",
   "execution_count": 75,
   "id": "0dabcef7",
   "metadata": {},
   "outputs": [
    {
     "data": {
      "text/plain": [
       "['geomean_60X_Healthy_Cortex_Video1.csv',\n",
       " 'geomean_100X_OGD_Cortex_Slice2_Video1.csv',\n",
       " 'geomean_100X_OGD_Cortex_Slice2_Video3.csv',\n",
       " 'geomean_100X_OGD_Cortex_Slice2_Video2.csv',\n",
       " 'geomean_040623_P10M_4DIV_100X_OGD_Striatum_Slice2_Video3.csv',\n",
       " 'geomean_100X_OGD_Striatum_Slice2_Video1.csv',\n",
       " 'geomean_100X_Healthy_Cortex_Slice2_Video4.csv',\n",
       " 'geomean_100X_Healthy_Striatum_Slice1_Video4.csv',\n",
       " 'geomean_100X_Healthy_Striatum_Slice1_Video1.csv',\n",
       " 'geomean_100X_Healthy_Striatum_Slice1_Video3.csv',\n",
       " 'geomean_100X_Healthy_Striatum_Slice1_Video2.csv',\n",
       " 'geomean_100X_Healthy_Striatum_Slice2_Video1.csv',\n",
       " 'geomean_100X_OGD_Striatum_Slice3_Video1.csv',\n",
       " 'geomean_100X_Healthy_Cortex_Slice1_Video1.csv',\n",
       " 'geomean_100X_OGD_Striatum_Slice3_Video2.csv',\n",
       " 'geomean_100X_Healthy_Striatum_Slice2_Video2.csv',\n",
       " 'geomean_100X_Healthy_Striatum_Slice2_Video3.csv',\n",
       " 'geomean_100X_OGD_Striatum_Slice3_Video3.csv',\n",
       " 'geomean_60X_Healthy_Striatum_Slice2_Video1.csv',\n",
       " 'geomean_100X_OGD_Striatum_Slice1_Video1.csv',\n",
       " 'geomean_60X_OGD_Cortex_Slice1_Video2.csv',\n",
       " 'geomean_100X_OGD_Striatum_Slice1_Video3.csv',\n",
       " 'geomean_100X_OGD_Striatum_Slice1_Video2.csv',\n",
       " 'geomean_60X_OGD_Cortex_Slice1_Video1.csv',\n",
       " 'geomean_100X_OGD_Striatum_Slice1_Video5.csv']"
      ]
     },
     "execution_count": 75,
     "metadata": {},
     "output_type": "execute_result"
    }
   ],
   "source": [
    "geo_list"
   ]
  },
  {
   "cell_type": "code",
   "execution_count": 76,
   "id": "cac2f0b5",
   "metadata": {},
   "outputs": [
    {
     "data": {
      "text/plain": [
       "['geomean_60X_Healthy_Cortex_Video1.csv',\n",
       " 'geomean_100X_OGD_Cortex_Slice2_Video1.csv',\n",
       " 'geomean_100X_OGD_Cortex_Slice2_Video3.csv',\n",
       " 'geomean_100X_OGD_Cortex_Slice2_Video2.csv',\n",
       " 'geomean_040623_P10M_4DIV_100X_OGD_Striatum_Slice2_Video3.csv',\n",
       " 'geomean_100X_OGD_Striatum_Slice2_Video1.csv',\n",
       " 'geomean_100X_Healthy_Cortex_Slice2_Video4.csv',\n",
       " 'geomean_100X_Healthy_Striatum_Slice1_Video4.csv',\n",
       " 'geomean_100X_Healthy_Striatum_Slice1_Video1.csv',\n",
       " 'geomean_100X_Healthy_Striatum_Slice1_Video3.csv',\n",
       " 'geomean_100X_Healthy_Striatum_Slice1_Video2.csv',\n",
       " 'geomean_100X_Healthy_Striatum_Slice2_Video1.csv',\n",
       " 'geomean_100X_OGD_Striatum_Slice3_Video1.csv',\n",
       " 'geomean_100X_Healthy_Cortex_Slice1_Video1.csv',\n",
       " 'geomean_100X_OGD_Striatum_Slice3_Video2.csv',\n",
       " 'geomean_100X_Healthy_Striatum_Slice2_Video2.csv',\n",
       " 'geomean_100X_Healthy_Striatum_Slice2_Video3.csv',\n",
       " 'geomean_100X_OGD_Striatum_Slice3_Video3.csv',\n",
       " 'geomean_60X_Healthy_Striatum_Slice2_Video1.csv',\n",
       " 'geomean_100X_OGD_Striatum_Slice1_Video1.csv',\n",
       " 'geomean_60X_OGD_Cortex_Slice1_Video2.csv',\n",
       " 'geomean_100X_OGD_Striatum_Slice1_Video3.csv',\n",
       " 'geomean_100X_OGD_Striatum_Slice1_Video2.csv',\n",
       " 'geomean_60X_OGD_Cortex_Slice1_Video1.csv',\n",
       " 'geomean_100X_OGD_Striatum_Slice1_Video5.csv']"
      ]
     },
     "execution_count": 76,
     "metadata": {},
     "output_type": "execute_result"
    }
   ],
   "source": [
    "get_csvs(data_path,'geomean')"
   ]
  },
  {
   "cell_type": "code",
   "execution_count": null,
   "id": "725c63b6",
   "metadata": {},
   "outputs": [],
   "source": []
  }
 ],
 "metadata": {
  "kernelspec": {
   "display_name": "Python 3 (ipykernel)",
   "language": "python",
   "name": "python3"
  },
  "language_info": {
   "codemirror_mode": {
    "name": "ipython",
    "version": 3
   },
   "file_extension": ".py",
   "mimetype": "text/x-python",
   "name": "python",
   "nbconvert_exporter": "python",
   "pygments_lexer": "ipython3",
   "version": "3.9.13"
  }
 },
 "nbformat": 4,
 "nbformat_minor": 5
}
